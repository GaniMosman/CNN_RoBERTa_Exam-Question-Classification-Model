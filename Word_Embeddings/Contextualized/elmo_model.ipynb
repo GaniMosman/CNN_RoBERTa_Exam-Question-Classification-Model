{
 "cells": [
  {
   "cell_type": "code",
   "execution_count": 1,
   "id": "3b39a12b",
   "metadata": {},
   "outputs": [],
   "source": [
    "import os\n",
    "import random\n",
    "import numpy as np\n",
    "import tensorflow as tf\n",
    "seed = 1\n",
    "os.environ['PYTHONHASHSEED'] = str(seed)\n",
    "random.seed(seed)\n",
    "np.random.seed(seed)\n",
    "tf.random.set_seed(seed)"
   ]
  },
  {
   "cell_type": "code",
   "execution_count": 2,
   "id": "464d706c",
   "metadata": {},
   "outputs": [],
   "source": [
    "import tensorflow_hub as hub\n",
    "import pandas as pd"
   ]
  },
  {
   "cell_type": "code",
   "execution_count": 3,
   "id": "9778458b",
   "metadata": {},
   "outputs": [],
   "source": [
    "import tensorflow_hub as hub\n",
    "import tensorflow_addons as tfa\n",
    "import tensorflow_text as tf_text\n",
    "from tensorflow.keras import Sequential\n",
    "from tensorflow.keras.callbacks import CSVLogger\n",
    "from tensorflow.keras.utils import to_categorical\n",
    "from tensorflow.keras.layers import Input, Dense, Conv1D, GlobalMaxPooling1D"
   ]
  },
  {
   "cell_type": "code",
   "execution_count": 4,
   "id": "01b441a1",
   "metadata": {},
   "outputs": [],
   "source": [
    "import pandas as pd\n",
    "from matplotlib import pyplot as plt\n",
    "from sklearn.metrics import f1_score\n",
    "from sklearn.metrics import accuracy_score\n",
    "from sklearn.metrics import classification_report\n",
    "from sklearn.model_selection import train_test_split"
   ]
  },
  {
   "cell_type": "code",
   "execution_count": 5,
   "id": "f46fdfed",
   "metadata": {},
   "outputs": [],
   "source": [
    "def build_model():\n",
    "  \n",
    "    model = Sequential()\n",
    "    model.add(Input(shape= (75, 1024), name= 'embedding'))\n",
    "    model.add(Conv1D(32, 5, activation ='relu'))\n",
    "    model.add(GlobalMaxPooling1D())\n",
    "    model.add(Dense(6, activation ='softmax'))\n",
    "    return model"
   ]
  },
  {
   "cell_type": "code",
   "execution_count": 6,
   "id": "5985b41c",
   "metadata": {},
   "outputs": [],
   "source": [
    "def get_embedding(questions):\n",
    "    elmo_model = hub.load(\"D:/elmo_model/elmo\")\n",
    "    embeddings = elmo_model.signatures[\"default\"](tf.constant(questions))\n",
    "    return embeddings['elmo']"
   ]
  },
  {
   "cell_type": "code",
   "execution_count": 7,
   "id": "a852fe57",
   "metadata": {},
   "outputs": [],
   "source": [
    "def evaluate_model(model, X_test, y_test):\n",
    "    pred = model.predict(X_test)\n",
    "    predicted_classes = np.argmax(pred, axis = 1)\n",
    "    true_classes = np.argmax(y_test, axis = 1)\n",
    "    accuracy = accuracy_score(true_classes, predicted_classes)\n",
    "    print(f\"Accuracy: {accuracy}\")\n",
    "    f1_ = f1_score(true_classes, predicted_classes, average = 'weighted')\n",
    "    print(f\"F1 score: {f1_}\")\n",
    "    print(classification_report(true_classes, predicted_classes))"
   ]
  },
  {
   "cell_type": "code",
   "execution_count": 8,
   "id": "e7ff3f53",
   "metadata": {},
   "outputs": [],
   "source": [
    "def plot_result(log_data): \n",
    "    plt.figure(figsize=(10, 6))\n",
    "    plt.plot(log_data['loss'], label ='train')\n",
    "    plt.plot(log_data['val_loss'], label ='test')\n",
    "    plt.title('Model loss')\n",
    "    plt.ylabel('Loss')\n",
    "    plt.xlabel('Epoch')\n",
    "    plt.legend()\n",
    "    \n",
    "    plt.figure(figsize=(10, 6))\n",
    "    plt.plot(log_data['accuracy'], label ='train')\n",
    "    plt.plot(log_data['val_accuracy'], label ='test')\n",
    "    plt.title('Model Accuracy')\n",
    "    plt.ylabel('Accuracy')\n",
    "    plt.xlabel('Epoch')\n",
    "    plt.legend()\n",
    "    plt.show()\n",
    "    \n",
    "    plt.figure(figsize=(10, 6))\n",
    "    plt.plot(log_data['f1_score'], label ='train')\n",
    "    plt.plot(log_data['val_f1_score'], label ='test')\n",
    "    plt.title('Model F1 Score')\n",
    "    plt.ylabel('F1 Score')\n",
    "    plt.xlabel('Epoch')\n",
    "    plt.legend()\n",
    "    plt.show()"
   ]
  },
  {
   "cell_type": "code",
   "execution_count": 9,
   "id": "36475f3a",
   "metadata": {
    "scrolled": true
   },
   "outputs": [],
   "source": [
    "questions = pd.read_csv('data/combined_dataset.csv')"
   ]
  },
  {
   "cell_type": "code",
   "execution_count": 10,
   "id": "06b3fecd",
   "metadata": {},
   "outputs": [],
   "source": [
    "X = questions['QUESTION']\n",
    "cognitive_level = {\"Knowledge\": 0, \"Comprehension\": 1, \"Application\": 2, \"Analysis\": 3, \"Synthesis\": 4, \"Evaluation\": 5}\n",
    "questions[\"BT LEVEL\"].replace(cognitive_level, inplace = True)\n",
    "y = questions['BT LEVEL']"
   ]
  },
  {
   "cell_type": "code",
   "execution_count": null,
   "id": "c887aa27",
   "metadata": {},
   "outputs": [],
   "source": [
    "embedding = get_embedding(X)\n",
    "np.save('embedding/elmo/embeddings.npy', embedding)"
   ]
  },
  {
   "cell_type": "code",
   "execution_count": null,
   "id": "1cc480cc",
   "metadata": {},
   "outputs": [],
   "source": [
    "embedding = np.load('embedding/elmo/embeddings.npy')"
   ]
  },
  {
   "cell_type": "code",
   "execution_count": null,
   "id": "2170e3e6",
   "metadata": {},
   "outputs": [],
   "source": [
    "embedding.shape"
   ]
  },
  {
   "cell_type": "code",
   "execution_count": null,
   "id": "dbf654ce",
   "metadata": {},
   "outputs": [],
   "source": [
    "all_indices = list(range(len(embedding)))"
   ]
  },
  {
   "cell_type": "code",
   "execution_count": null,
   "id": "896a9da4",
   "metadata": {},
   "outputs": [],
   "source": [
    "train_ind, test_ind = train_test_split(all_indices,  test_size = 0.10, stratify = questions['BT LEVEL'], \n",
    "                                                                             shuffle = True, random_state = 1)"
   ]
  },
  {
   "cell_type": "code",
   "execution_count": null,
   "id": "cd82c71e",
   "metadata": {},
   "outputs": [],
   "source": [
    "embedding =  np.array(embedding)"
   ]
  },
  {
   "cell_type": "code",
   "execution_count": null,
   "id": "782c7473",
   "metadata": {},
   "outputs": [],
   "source": [
    "X_train = embedding[train_ind]\n",
    "X_test = embedding[test_ind]"
   ]
  },
  {
   "cell_type": "code",
   "execution_count": null,
   "id": "091ab356",
   "metadata": {},
   "outputs": [],
   "source": [
    "y_train = y.iloc[train_ind]\n",
    "y_test = y.iloc[test_ind]"
   ]
  },
  {
   "cell_type": "code",
   "execution_count": null,
   "id": "cd44e039",
   "metadata": {},
   "outputs": [],
   "source": [
    "y_train = to_categorical(y_train)\n",
    "y_test = to_categorical(y_test)"
   ]
  },
  {
   "cell_type": "code",
   "execution_count": null,
   "id": "4d4e8a3c",
   "metadata": {},
   "outputs": [],
   "source": [
    "#model\n",
    "model = build_model()\n",
    "# compiling the model\n",
    "model.compile(optimizer = 'RMSprop', loss='categorical_crossentropy', metrics= ['accuracy', tfa.metrics.F1Score(6, 'weighted')])\n",
    "# printing summary of the model\n",
    "model.summary()"
   ]
  },
  {
   "cell_type": "code",
   "execution_count": null,
   "id": "b5f5903a",
   "metadata": {},
   "outputs": [],
   "source": [
    "training_logger = CSVLogger('log/Elmo/elmo/training.log', separator = ',', append = False)"
   ]
  },
  {
   "cell_type": "code",
   "execution_count": null,
   "id": "f47aeb9a",
   "metadata": {
    "scrolled": true
   },
   "outputs": [],
   "source": [
    "# fit the model\n",
    "model.fit(X_train, y_train, epochs = 50, batch_size = 8, validation_data = (X_test, y_test),\n",
    "                                                  callbacks = [training_logger], verbose = 1)\n",
    "#saving the trained model\n",
    "model.save('saved_models/Elmo/elmo/EQCM.h5')"
   ]
  },
  {
   "cell_type": "code",
   "execution_count": null,
   "id": "dedddde4",
   "metadata": {
    "scrolled": true
   },
   "outputs": [],
   "source": [
    "log_data = pd.read_csv('log/Elmo/elmo/training.log', sep = ',', engine = 'python')\n",
    "log_data.head(50)"
   ]
  },
  {
   "cell_type": "code",
   "execution_count": null,
   "id": "a98a9eae",
   "metadata": {},
   "outputs": [],
   "source": [
    "model.load_weights(\"saved_models/Elmo/elmo/EQCM.h5\")\n",
    "evaluate_model(model, X_test, y_test)"
   ]
  },
  {
   "cell_type": "code",
   "execution_count": null,
   "id": "2b70b858",
   "metadata": {
    "scrolled": true
   },
   "outputs": [],
   "source": [
    "log_data['val_accuracy'].describe()"
   ]
  },
  {
   "cell_type": "code",
   "execution_count": null,
   "id": "3b1ad9e8",
   "metadata": {},
   "outputs": [],
   "source": [
    "log_data['val_f1_score'].describe()"
   ]
  },
  {
   "cell_type": "code",
   "execution_count": null,
   "id": "d8b45d3f",
   "metadata": {},
   "outputs": [],
   "source": [
    "log_data[['val_accuracy']].idxmax() + 1"
   ]
  },
  {
   "cell_type": "code",
   "execution_count": null,
   "id": "a26606de",
   "metadata": {},
   "outputs": [],
   "source": [
    "plot_result(log_data)"
   ]
  }
 ],
 "metadata": {
  "kernelspec": {
   "display_name": "DL",
   "language": "python",
   "name": "dl"
  },
  "language_info": {
   "codemirror_mode": {
    "name": "ipython",
    "version": 3
   },
   "file_extension": ".py",
   "mimetype": "text/x-python",
   "name": "python",
   "nbconvert_exporter": "python",
   "pygments_lexer": "ipython3",
   "version": "3.10.6"
  }
 },
 "nbformat": 4,
 "nbformat_minor": 5
}
