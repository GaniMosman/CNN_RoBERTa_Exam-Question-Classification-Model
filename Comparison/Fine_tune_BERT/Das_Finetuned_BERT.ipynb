{
 "cells": [
  {
   "cell_type": "code",
   "execution_count": null,
   "id": "521e87c7",
   "metadata": {},
   "outputs": [],
   "source": [
    "import os\n",
    "import random\n",
    "import numpy as np\n",
    "import tensorflow as tf\n",
    "seed = 1\n",
    "os.environ['PYTHONHASHSEED'] = str(seed)\n",
    "random.seed(seed)\n",
    "np.random.seed(seed)\n",
    "tf.random.set_seed(seed)"
   ]
  },
  {
   "cell_type": "code",
   "execution_count": null,
   "id": "29f8279b",
   "metadata": {},
   "outputs": [],
   "source": [
    "import pandas as pd\n",
    "import tensorflow_addons as tfa\n",
    "from tensorflow.keras.optimizers import RMSprop\n",
    "from tensorflow.keras.utils import to_categorical\n",
    "from sklearn.model_selection import train_test_split\n",
    "from transformers import AutoTokenizer, TFAutoModelForSequenceClassification, set_seed\n",
    "set_seed(42)"
   ]
  },
  {
   "cell_type": "markdown",
   "id": "27c817b7",
   "metadata": {},
   "source": [
    "## Read Dataset"
   ]
  },
  {
   "cell_type": "code",
   "execution_count": null,
   "id": "282bdbba",
   "metadata": {},
   "outputs": [],
   "source": [
    "questions = pd.read_csv(\"Data/combined_dataset.csv\")\n",
    "questions"
   ]
  },
  {
   "cell_type": "code",
   "execution_count": null,
   "id": "d8c3e09d",
   "metadata": {},
   "outputs": [],
   "source": [
    "X = questions['QUESTION']\n",
    "cognitive_level = {\"Knowledge\": 0, \"Comprehension\": 1, \"Application\": 2, \"Analysis\": 3, \"Synthesis\": 4, \"Evaluation\": 5}\n",
    "questions[\"BT LEVEL\"].replace(cognitive_level, inplace = True)\n",
    "y = questions['BT LEVEL'].values"
   ]
  },
  {
   "cell_type": "code",
   "execution_count": null,
   "id": "df37980f",
   "metadata": {},
   "outputs": [],
   "source": [
    "X_train, X_test, y_train, y_test = train_test_split(X, y , test_size = 0.10, stratify = questions['BT LEVEL'], \n",
    "                                                         shuffle = True, random_state = 1)"
   ]
  },
  {
   "cell_type": "code",
   "execution_count": null,
   "id": "d7a719d3",
   "metadata": {},
   "outputs": [],
   "source": [
    "y_train = to_categorical(y_train)\n",
    "y_test = to_categorical(y_test)"
   ]
  },
  {
   "cell_type": "code",
   "execution_count": null,
   "id": "365b632f",
   "metadata": {},
   "outputs": [],
   "source": [
    "tokenizer = AutoTokenizer.from_pretrained(\"bert-base-uncased\")"
   ]
  },
  {
   "cell_type": "code",
   "execution_count": null,
   "id": "39ad2c2f",
   "metadata": {},
   "outputs": [],
   "source": [
    "tokenized_data_train = tokenizer(X_train.to_list(), return_tensors=\"np\", padding='max_length', max_length = 128)"
   ]
  },
  {
   "cell_type": "code",
   "execution_count": null,
   "id": "2367ecf1",
   "metadata": {},
   "outputs": [],
   "source": [
    "tokenized_data_test = tokenizer(X_test.to_list(), return_tensors=\"np\",  padding='max_length', max_length = 128)"
   ]
  },
  {
   "cell_type": "code",
   "execution_count": null,
   "id": "3f800f7c",
   "metadata": {},
   "outputs": [],
   "source": [
    "labels_train = np.array(y_train)  \n",
    "labels_test = np.array(y_test)"
   ]
  },
  {
   "cell_type": "code",
   "execution_count": null,
   "id": "c3126147",
   "metadata": {},
   "outputs": [],
   "source": [
    "model = TFAutoModelForSequenceClassification.from_pretrained(\"bert-base-uncased\", num_labels = 6)"
   ]
  },
  {
   "cell_type": "code",
   "execution_count": null,
   "id": "a4c9c5f8",
   "metadata": {},
   "outputs": [],
   "source": [
    "loss = tf.keras.losses.CategoricalCrossentropy(from_logits = True)"
   ]
  },
  {
   "cell_type": "code",
   "execution_count": null,
   "id": "f64ff287",
   "metadata": {},
   "outputs": [],
   "source": [
    "model.compile(optimizer = RMSprop(3e-5), loss=loss, metrics=['accuracy', tfa.metrics.F1Score(6, 'weighted')])"
   ]
  },
  {
   "cell_type": "code",
   "execution_count": null,
   "id": "9caafc02",
   "metadata": {},
   "outputs": [],
   "source": [
    "model.fit(dict(tokenized_data_train), \n",
    "          labels_train, \n",
    "          validation_data = (dict(tokenized_data_test), labels_test),\n",
    "          batch_size = 16, \n",
    "          epochs = 5)"
   ]
  }
 ],
 "metadata": {
  "kernelspec": {
   "display_name": "transformer",
   "language": "python",
   "name": "transformer"
  },
  "language_info": {
   "codemirror_mode": {
    "name": "ipython",
    "version": 3
   },
   "file_extension": ".py",
   "mimetype": "text/x-python",
   "name": "python",
   "nbconvert_exporter": "python",
   "pygments_lexer": "ipython3",
   "version": "3.10.4"
  }
 },
 "nbformat": 4,
 "nbformat_minor": 5
}
