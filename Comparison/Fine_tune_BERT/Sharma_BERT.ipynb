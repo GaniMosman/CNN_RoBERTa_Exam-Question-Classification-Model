{
 "cells": [
  {
   "cell_type": "code",
   "execution_count": null,
   "id": "fafeb748",
   "metadata": {},
   "outputs": [],
   "source": [
    "import os\n",
    "import random\n",
    "import numpy as np\n",
    "import tensorflow as tf\n",
    "seed = 1\n",
    "os.environ['PYTHONHASHSEED'] = str(seed)\n",
    "random.seed(seed)\n",
    "np.random.seed(seed)\n",
    "tf.random.set_seed(seed)"
   ]
  },
  {
   "cell_type": "code",
   "execution_count": null,
   "id": "ab671520",
   "metadata": {},
   "outputs": [],
   "source": [
    "import tensorflow_hub as hub\n",
    "import tensorflow_addons as tfa\n",
    "import tensorflow_text as tf_text\n",
    "from tensorflow.keras.callbacks import CSVLogger\n",
    "from tensorflow.keras.utils import to_categorical\n",
    "from tensorflow.keras.optimizers import Adam\n",
    "from tensorflow.keras.layers import Input, Dense, Dropout"
   ]
  },
  {
   "cell_type": "code",
   "execution_count": null,
   "id": "ab4fdb0d",
   "metadata": {},
   "outputs": [],
   "source": [
    "import pandas as pd\n",
    "from sklearn.metrics import f1_score\n",
    "from sklearn.metrics import accuracy_score\n",
    "from sklearn.model_selection import train_test_split"
   ]
  },
  {
   "cell_type": "code",
   "execution_count": null,
   "id": "2177c7bf",
   "metadata": {},
   "outputs": [],
   "source": [
    "questions = pd.read_csv(\"Data/combined_dataset.csv\")\n",
    "questions"
   ]
  },
  {
   "cell_type": "code",
   "execution_count": null,
   "id": "925f6573",
   "metadata": {},
   "outputs": [],
   "source": [
    "X = questions['QUESTION']\n",
    "cognitive_level = {\"Knowledge\": 0, \"Comprehension\": 1, \"Application\": 2, \"Analysis\": 3, \"Synthesis\": 4, \"Evaluation\": 5}\n",
    "questions[\"BT LEVEL\"].replace(cognitive_level, inplace = True)\n",
    "y = questions['BT LEVEL'].values"
   ]
  },
  {
   "cell_type": "code",
   "execution_count": null,
   "id": "f5864b65",
   "metadata": {},
   "outputs": [],
   "source": [
    "X_train, X_test, y_train, y_test = train_test_split(X, y , test_size = 0.10, stratify = questions['BT LEVEL'], \n",
    "                                                         shuffle = True, random_state = 1)"
   ]
  },
  {
   "cell_type": "code",
   "execution_count": null,
   "id": "a5ed5922",
   "metadata": {},
   "outputs": [],
   "source": [
    "y_train = to_categorical(y_train)\n",
    "y_test = to_categorical(y_test)"
   ]
  },
  {
   "cell_type": "code",
   "execution_count": null,
   "id": "cf8aee9c",
   "metadata": {},
   "outputs": [],
   "source": [
    "preprocess_path = \"D:/bert_models/bert_en_uncased_preprocess_3\"\n",
    "bert_path = \"D:/bert_models/bert_en_uncased_L-12_H-768_A-12_4\"\n",
    "preprocessor = hub.KerasLayer(preprocess_path, )    \n",
    "encoder = hub.KerasLayer(bert_path, trainable=True)"
   ]
  },
  {
   "cell_type": "code",
   "execution_count": null,
   "id": "751b0b48",
   "metadata": {},
   "outputs": [],
   "source": [
    "text_input = Input(shape=(), dtype=tf.string)\n",
    "encoder_inputs = preprocessor(text_input)\n",
    "embedding = encoder(encoder_inputs)\n",
    "dropout = Dropout(0.3)(embedding['pooled_output'])\n",
    "dense_layer = Dense(16, activation = 'relu')(dropout)\n",
    "output = Dense(6, activation = 'softmax')(dense_layer)\n",
    "model = tf.keras.Model(inputs=[text_input], outputs = [output])\n",
    "model.summary()"
   ]
  },
  {
   "cell_type": "code",
   "execution_count": null,
   "id": "ed798bbe",
   "metadata": {},
   "outputs": [],
   "source": [
    "model.compile(optimizer = Adam(learning_rate = 1e-5), loss='categorical_crossentropy', metrics= ['accuracy', tfa.metrics.F1Score(6, 'weighted')])\n",
    "model.fit(X_train, y_train, epochs = 10, batch_size = 8, validation_data = (X_test, y_test), verbose = 1)"
   ]
  }
 ],
 "metadata": {
  "kernelspec": {
   "display_name": "DL",
   "language": "python",
   "name": "dl"
  },
  "language_info": {
   "codemirror_mode": {
    "name": "ipython",
    "version": 3
   },
   "file_extension": ".py",
   "mimetype": "text/x-python",
   "name": "python",
   "nbconvert_exporter": "python",
   "pygments_lexer": "ipython3",
   "version": "3.10.6"
  }
 },
 "nbformat": 4,
 "nbformat_minor": 5
}
