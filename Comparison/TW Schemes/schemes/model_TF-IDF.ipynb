{
 "cells": [
  {
   "cell_type": "code",
   "execution_count": 1,
   "id": "5452c0a2",
   "metadata": {},
   "outputs": [],
   "source": [
    "import math\n",
    "import numpy as np\n",
    "import pandas as pd\n",
    "\n",
    "from sklearn.metrics import f1_score\n",
    "from sklearn.metrics import accuracy_score\n",
    "from sklearn.model_selection import train_test_split\n",
    "\n",
    "\n",
    "pd.set_option('display.max_columns', 2000)\n",
    "pd.set_option('mode.use_inf_as_na', True)\n",
    "\n",
    "from sklearn.svm import SVC as classifier_SVC"
   ]
  },
  {
   "cell_type": "markdown",
   "id": "d6e80b61",
   "metadata": {},
   "source": [
    "## Functions for data preparation"
   ]
  },
  {
   "cell_type": "code",
   "execution_count": 2,
   "id": "f5ba441c",
   "metadata": {},
   "outputs": [],
   "source": [
    "def l2_norm(vectors):\n",
    "    norms = []\n",
    "    for vector in vectors.values:\n",
    "        denominator = math.sqrt(sum([x**2 for x in vector]))\n",
    "        norm = [round(x / denominator, 6) for x in vector]\n",
    "        norms.append(norm)\n",
    "    return norms"
   ]
  },
  {
   "cell_type": "code",
   "execution_count": 3,
   "id": "d1cb0272",
   "metadata": {},
   "outputs": [],
   "source": [
    "def prepare_data(norm):\n",
    "    \n",
    "    #reading the dataset\n",
    "    tf_idf_df = pd.read_csv('term_weighting_result_unsupervised/traditional_tf_idf.csv')\n",
    "    \n",
    "    # Converting the categorical class lables into numerical\n",
    "    cognitive_level = {\"Knowledge\": 0, \"Comprehension\": 1, \"Application\": 2, \"Analysis\": 3, \"Synthesis\": 4, \"Evaluation\": 5}\n",
    "    tf_idf_df[\"BT_level\"].replace(cognitive_level, inplace = True)\n",
    "    \n",
    "    #Creating target and independent variable\n",
    "    X = tf_idf_df.iloc[:, :tf_idf_df.shape[1] - 1]\n",
    "    y = tf_idf_df.BT_level\n",
    "    print(y)\n",
    "    #Norm X values\n",
    "    if norm == True:\n",
    "        Temp_x = l2_norm(X)\n",
    "        X = pd.DataFrame(Temp_x, columns = X.columns)\n",
    "        norm_tw = X.copy()\n",
    "        norm_tw['BT_level'] = tf_idf_df[\"BT_level\"].values\n",
    "        norm_tw.to_excel('term_weighting_result_unsupervised/norm-tf-idf.xlsx', index = False)\n",
    "\n",
    "    #printing max and min value of X\n",
    "    max_values = X.max()\n",
    "    min_values = X.min()\n",
    "    print('Max value: ', max(max_values))\n",
    "    print('Min value: ', min(min_values))\n",
    "    \n",
    "    return (X, y, tf_idf_df[\"BT_level\"])"
   ]
  },
  {
   "cell_type": "markdown",
   "id": "f6227784",
   "metadata": {},
   "source": [
    "## Function to print average result"
   ]
  },
  {
   "cell_type": "code",
   "execution_count": 4,
   "id": "e9a01fed",
   "metadata": {},
   "outputs": [],
   "source": [
    "def print_result(result):\n",
    "    \n",
    "    averge_accuracy = round(np.mean(result[0]), 3)\n",
    "    averge_f1_score = round(np.mean(result[1]), 3)\n",
    "    \n",
    "    print(\"Average accuracy = \", averge_accuracy)\n",
    "    print(\"Average f1-score = \", averge_f1_score)"
   ]
  },
  {
   "cell_type": "markdown",
   "id": "e3f168bd",
   "metadata": {},
   "source": [
    "## Results of different Classifiers"
   ]
  },
  {
   "cell_type": "code",
   "execution_count": 5,
   "id": "e1cf97e4",
   "metadata": {},
   "outputs": [
    {
     "name": "stdout",
     "output_type": "stream",
     "text": [
      "0       1\n",
      "1       1\n",
      "2       1\n",
      "3       1\n",
      "4       1\n",
      "       ..\n",
      "2517    2\n",
      "2518    0\n",
      "2519    3\n",
      "2520    5\n",
      "2521    0\n",
      "Name: BT_level, Length: 2522, dtype: int64\n",
      "Max value:  1.0\n",
      "Min value:  0.0\n"
     ]
    }
   ],
   "source": [
    "#Function calling to prepare data\n",
    "X, y, z = prepare_data(norm = True)"
   ]
  },
  {
   "cell_type": "code",
   "execution_count": 6,
   "id": "511c2057",
   "metadata": {},
   "outputs": [],
   "source": [
    "X_train, X_test, y_train, y_test = train_test_split(X, y , test_size = 0.10, stratify = z, \n",
    "                                                         shuffle = True, random_state = 1)"
   ]
  },
  {
   "cell_type": "markdown",
   "id": "49c2a257",
   "metadata": {},
   "source": [
    "### SVC(Linear Kernel)"
   ]
  },
  {
   "cell_type": "code",
   "execution_count": 7,
   "id": "2cb649ba",
   "metadata": {
    "scrolled": true
   },
   "outputs": [
    {
     "name": "stdout",
     "output_type": "stream",
     "text": [
      "Accuracy: 0.782608695652174\n",
      "F1 score: 0.7813796137347223\n"
     ]
    }
   ],
   "source": [
    "#Initialising the classifier\n",
    "model_SVC_linear = classifier_SVC(kernel = 'linear', decision_function_shape = 'ovo', C = 1.0)\n",
    "model_SVC_linear.fit(X_train, y_train)\n",
    "\n",
    "prediction = model_SVC_linear.predict(X_test)\n",
    "\n",
    "accuracy = accuracy_score(y_test, prediction)\n",
    "print(f\"Accuracy: {accuracy}\")\n",
    "f1_ = f1_score(y_test, prediction, average = 'weighted')\n",
    "print(f\"F1 score: {f1_}\")"
   ]
  }
 ],
 "metadata": {
  "kernelspec": {
   "display_name": "ML",
   "language": "python",
   "name": "ml"
  },
  "language_info": {
   "codemirror_mode": {
    "name": "ipython",
    "version": 3
   },
   "file_extension": ".py",
   "mimetype": "text/x-python",
   "name": "python",
   "nbconvert_exporter": "python",
   "pygments_lexer": "ipython3",
   "version": "3.10.4"
  }
 },
 "nbformat": 4,
 "nbformat_minor": 5
}
